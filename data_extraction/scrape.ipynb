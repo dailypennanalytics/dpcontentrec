{
  "nbformat": 4,
  "nbformat_minor": 0,
  "metadata": {
    "kernelspec": {
      "display_name": "Python 3",
      "language": "python",
      "name": "python3"
    },
    "language_info": {
      "codemirror_mode": {
        "name": "ipython",
        "version": 3
      },
      "file_extension": ".py",
      "mimetype": "text/x-python",
      "name": "python",
      "nbconvert_exporter": "python",
      "pygments_lexer": "ipython3",
      "version": "3.7.3"
    },
    "colab": {
      "name": "scrape.ipynb",
      "provenance": [],
      "collapsed_sections": []
    }
  },
  "cells": [
    {
      "cell_type": "code",
      "metadata": {
        "colab": {
          "base_uri": "https://localhost:8080/"
        },
        "id": "pNux4VQ2DEpB",
        "outputId": "4ae5ae56-9118-4369-f6e2-d69a6c57c660"
      },
      "source": [
        "#!pip install PyJWT\n",
        "\n",
        "import jwt\n",
        "import pandas as pd\n",
        "\n",
        "# get keys from https://dpn.ceo.getsnworks.com/ceo/developer\n",
        "pk = #private key\n",
        "secret = #secret key\n",
        "encoded_jwt = jwt.encode({'pk': pk}, secret, algorithm='HS256')\n",
        "                          "
      ],
      "execution_count": 3,
      "outputs": [
        {
          "output_type": "stream",
          "text": [
            "Requirement already satisfied: PyJWT in /usr/local/lib/python3.7/dist-packages (2.0.1)\n"
          ],
          "name": "stdout"
        }
      ]
    },
    {
      "cell_type": "code",
      "metadata": {
        "id": "1nEzjWh6DEpO"
      },
      "source": [
        "import requests\n",
        "per_page=100\n",
        "page = 1\n",
        "endpoint = 'https://dpn.ceo.getsnworks.com/v3/content?dir=desc&grid=false&keywords&order=created_at&page={}&per_page={}&status=published&type=article&workflow'.format(page, per_page)\n",
        "headers = {\"Authorization\": \"Bearer \" + encoded_jwt}"
      ],
      "execution_count": 4,
      "outputs": []
    },
    {
      "cell_type": "code",
      "metadata": {
        "id": "17gG7L5kDEpS"
      },
      "source": [
        "response = requests.get(url=endpoint, headers= headers)\n",
        "res = response.json()\n",
        "titles = []\n",
        "content = []\n",
        "slugs = []\n",
        "published_dates = []"
      ],
      "execution_count": 5,
      "outputs": []
    },
    {
      "cell_type": "code",
      "metadata": {
        "id": "oRw4sAdrDEpS"
      },
      "source": [
        "for item in res['items']:\n",
        "    titles.append(item['title'])\n",
        "    slugs.append(item['slug'])\n",
        "    content.append(item['content'])\n",
        "    published_dates.append(item['published_at'])\n"
      ],
      "execution_count": 6,
      "outputs": []
    },
    {
      "cell_type": "code",
      "metadata": {
        "id": "jtfRPthvDEpS"
      },
      "source": [
        "articles_df = pd.DataFrame(data={'title': titles, 'slug': slugs, 'content': content, 'published_date': published_dates})"
      ],
      "execution_count": 7,
      "outputs": []
    },
    {
      "cell_type": "code",
      "metadata": {
        "colab": {
          "base_uri": "https://localhost:8080/",
          "height": 391
        },
        "id": "iKRAMBYPDEpT",
        "outputId": "d5227ff3-0f87-4e86-ca94-b994ab6877ec"
      },
      "source": [
        "articles_df"
      ],
      "execution_count": 8,
      "outputs": [
        {
          "output_type": "execute_result",
          "data": {
            "text/html": [
              "<div>\n",
              "<style scoped>\n",
              "    .dataframe tbody tr th:only-of-type {\n",
              "        vertical-align: middle;\n",
              "    }\n",
              "\n",
              "    .dataframe tbody tr th {\n",
              "        vertical-align: top;\n",
              "    }\n",
              "\n",
              "    .dataframe thead th {\n",
              "        text-align: right;\n",
              "    }\n",
              "</style>\n",
              "<table border=\"1\" class=\"dataframe\">\n",
              "  <thead>\n",
              "    <tr style=\"text-align: right;\">\n",
              "      <th></th>\n",
              "      <th>title</th>\n",
              "      <th>slug</th>\n",
              "      <th>content</th>\n",
              "      <th>published_date</th>\n",
              "    </tr>\n",
              "  </thead>\n",
              "  <tbody>\n",
              "    <tr>\n",
              "      <th>0</th>\n",
              "      <td>Penn centers to lead development of stormwater...</td>\n",
              "      <td>penn-water-center-weitzman-school-pittsburgh</td>\n",
              "      <td>&lt;p&gt;Two Penn centers are leading the developmen...</td>\n",
              "      <td>2021-04-16 04:39:50</td>\n",
              "    </tr>\n",
              "    <tr>\n",
              "      <th>1</th>\n",
              "      <td>Penn researchers find evidence of racial bias ...</td>\n",
              "      <td>penn-medicine-study-racial-bias-mortality-models</td>\n",
              "      <td>&lt;p&gt;A &lt;a href=\"https://www.atsjournals.org/doi/...</td>\n",
              "      <td>2021-04-16 04:38:24</td>\n",
              "    </tr>\n",
              "    <tr>\n",
              "      <th>2</th>\n",
              "      <td>Penn senior Sakshi Sehgal named Truman Scholar</td>\n",
              "      <td>penn-senior-awarded-truman-scholarship</td>\n",
              "      <td>&lt;p&gt;College senior Sakshi Sehgal has been named...</td>\n",
              "      <td>2021-04-16 01:33:50</td>\n",
              "    </tr>\n",
              "    <tr>\n",
              "      <th>3</th>\n",
              "      <td>Wharton first year starts podcast to build con...</td>\n",
              "      <td>wharton-first-year-podcast-covid-experiences</td>\n",
              "      <td>&lt;p&gt;Wharton first year Timi Adekeye started a p...</td>\n",
              "      <td>2021-04-16 03:18:17</td>\n",
              "    </tr>\n",
              "    <tr>\n",
              "      <th>4</th>\n",
              "      <td>S1E8. Phyllis Rackin — Shattering the Glass Ce...</td>\n",
              "      <td>phyllis-rackin-shakespeare-upenn</td>\n",
              "      <td>&lt;img class=\"media-embed\" data-embedded-media=\"...</td>\n",
              "      <td>2021-04-09 04:00:00</td>\n",
              "    </tr>\n",
              "    <tr>\n",
              "      <th>...</th>\n",
              "      <td>...</td>\n",
              "      <td>...</td>\n",
              "      <td>...</td>\n",
              "      <td>...</td>\n",
              "    </tr>\n",
              "    <tr>\n",
              "      <th>95</th>\n",
              "      <td>Yale announces return to in-person learning fo...</td>\n",
              "      <td>yale-return-to-campus-fall-2021-ivy-league</td>\n",
              "      <td>&lt;p&gt;Yale University will return to in-person le...</td>\n",
              "      <td>2021-04-06 03:24:22</td>\n",
              "    </tr>\n",
              "    <tr>\n",
              "      <th>96</th>\n",
              "      <td>Louis the Child, Rina Sawayama among headliner...</td>\n",
              "      <td>spec-fling-2021-artists-louis-the-child-gryffi...</td>\n",
              "      <td>&lt;p&gt;Penn's Social Planning and Events Committee...</td>\n",
              "      <td>2021-04-06 04:35:55</td>\n",
              "    </tr>\n",
              "    <tr>\n",
              "      <th>97</th>\n",
              "      <td>Katarina Ulich | In memory of my grandmother</td>\n",
              "      <td>katarina-audrey-ulich-dp-remembrance-project-c...</td>\n",
              "      <td>&lt;p&gt;I remember the black-and-white movies I wat...</td>\n",
              "      <td>2021-04-06 05:07:41</td>\n",
              "    </tr>\n",
              "    <tr>\n",
              "      <th>98</th>\n",
              "      <td>SAC groups successfully use Penn Clubs website...</td>\n",
              "      <td>penn-clubs-virtual-recruitment-sac-fair</td>\n",
              "      <td>&lt;p&gt;Student Activities Council groups successfu...</td>\n",
              "      <td>2021-04-05 05:05:15</td>\n",
              "    </tr>\n",
              "    <tr>\n",
              "      <th>99</th>\n",
              "      <td>Penn softball shakes off rust, sweeps St. Joe'...</td>\n",
              "      <td>penn-softball-sweeps-st-joes-doubleheader</td>\n",
              "      <td>&lt;p&gt;&amp;nbsp;After &lt;a href=\"https://www.thedp.com/...</td>\n",
              "      <td>2021-04-05 01:42:46</td>\n",
              "    </tr>\n",
              "  </tbody>\n",
              "</table>\n",
              "<p>100 rows × 4 columns</p>\n",
              "</div>"
            ],
            "text/plain": [
              "                                                title  ...       published_date\n",
              "0   Penn centers to lead development of stormwater...  ...  2021-04-16 04:39:50\n",
              "1   Penn researchers find evidence of racial bias ...  ...  2021-04-16 04:38:24\n",
              "2     Penn senior Sakshi Sehgal named Truman Scholar   ...  2021-04-16 01:33:50\n",
              "3   Wharton first year starts podcast to build con...  ...  2021-04-16 03:18:17\n",
              "4   S1E8. Phyllis Rackin — Shattering the Glass Ce...  ...  2021-04-09 04:00:00\n",
              "..                                                ...  ...                  ...\n",
              "95  Yale announces return to in-person learning fo...  ...  2021-04-06 03:24:22\n",
              "96  Louis the Child, Rina Sawayama among headliner...  ...  2021-04-06 04:35:55\n",
              "97       Katarina Ulich | In memory of my grandmother  ...  2021-04-06 05:07:41\n",
              "98  SAC groups successfully use Penn Clubs website...  ...  2021-04-05 05:05:15\n",
              "99  Penn softball shakes off rust, sweeps St. Joe'...  ...  2021-04-05 01:42:46\n",
              "\n",
              "[100 rows x 4 columns]"
            ]
          },
          "metadata": {
            "tags": []
          },
          "execution_count": 8
        }
      ]
    }
  ]
}
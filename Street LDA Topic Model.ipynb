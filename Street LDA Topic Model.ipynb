{
 "cells": [
  {
   "cell_type": "code",
   "execution_count": 1,
   "metadata": {},
   "outputs": [
    {
     "name": "stderr",
     "output_type": "stream",
     "text": [
      "[nltk_data] Downloading package stopwords to\n",
      "[nltk_data]     /Users/michellexiong/nltk_data...\n",
      "[nltk_data]   Package stopwords is already up-to-date!\n"
     ]
    }
   ],
   "source": [
    "import nltk; nltk.download('stopwords')\n",
    "import re\n",
    "import numpy as np\n",
    "import pandas as pd\n",
    "from pprint import pprint\n",
    "\n",
    "# Gensim\n",
    "import gensim\n",
    "import gensim.corpora as corpora\n",
    "from gensim.utils import simple_preprocess\n",
    "from gensim.models import CoherenceModel\n",
    "from gensim import similarities\n",
    "\n",
    "# spacy for lemmatization\n",
    "import spacy\n",
    "\n",
    "# Plotting tools\n",
    "import pyLDAvis\n",
    "import pyLDAvis.gensim  # don't skip this\n",
    "import matplotlib.pyplot as plt\n",
    "%matplotlib inline\n",
    "\n",
    "# Enable logging for gensim - optional\n",
    "import logging\n",
    "logging.basicConfig(format='%(asctime)s : %(levelname)s : %(message)s', level=logging.ERROR)\n",
    "\n",
    "import warnings\n",
    "warnings.filterwarnings(\"ignore\",category=DeprecationWarning)"
   ]
  },
  {
   "cell_type": "code",
   "execution_count": 2,
   "metadata": {},
   "outputs": [],
   "source": [
    "%store -r data_lemmatized\n",
    "%store -r model_list"
   ]
  },
  {
   "cell_type": "markdown",
   "metadata": {},
   "source": [
    "### Data pre-processing "
   ]
  },
  {
   "cell_type": "code",
   "execution_count": 6,
   "metadata": {},
   "outputs": [],
   "source": [
    "#NLTK Stopwords \n",
    "from nltk.corpus import stopwords\n",
    "stop_words = stopwords.words('english')\n",
    "stop_words.extend(['from', 'subject', 're', 'edu', 'use'])"
   ]
  },
  {
   "cell_type": "code",
   "execution_count": 8,
   "metadata": {},
   "outputs": [],
   "source": [
    "#Import dataset as dataframe\n",
    "df = pd.read_csv(\"street.csv\")\n",
    "\n",
    "#Combine title, slug, and content\n",
    "df['all_text'] = df[\"title\"].map(str) + ' ' + df['slug'] + ' ' + df['content']"
   ]
  },
  {
   "cell_type": "code",
   "execution_count": 5,
   "metadata": {},
   "outputs": [],
   "source": [
    "#convert to list of lyrics\n",
    "data = df.all_text.values.tolist()"
   ]
  },
  {
   "cell_type": "code",
   "execution_count": 6,
   "metadata": {},
   "outputs": [],
   "source": [
    "#function to tokenize lyrics\n",
    "def text_to_words(text):\n",
    "    for article in text:\n",
    "         # simple_preprocess converts documents into list of lowercase tokens, deacc=True removes punctuations\n",
    "        yield(gensim.utils.simple_preprocess(str(article), deacc=True))  \n",
    "        \n",
    "#create list of list of words in each song         \n",
    "data_words = list(text_to_words(data))"
   ]
  },
  {
   "cell_type": "code",
   "execution_count": 6,
   "metadata": {},
   "outputs": [],
   "source": [
    "#print(data_words[:1])"
   ]
  },
  {
   "cell_type": "code",
   "execution_count": 7,
   "metadata": {},
   "outputs": [],
   "source": [
    "#optional- few important bigrams and trigrams found in lyrics data\n",
    "#Build bigram and trigram models - two or three words frequently occuring together in document\n",
    "bigram = gensim.models.Phrases(data_words, min_count=5, threshold=100) \n",
    "trigram = gensim.models.Phrases(bigram[data_words], threshold=100) \n",
    "\n",
    "#Faster way to access trigrams and bigrams\n",
    "bigram_mod = gensim.models.phrases.Phraser(bigram)\n",
    "trigram_mod = gensim.models.phrases.Phraser(trigram)\n",
    "\n",
    "#define function for bigrams\n",
    "def make_bigrams(content):\n",
    "    return[bigram_mod[article] for article in content]\n",
    "\n",
    "#define function for trigrams\n",
    "def make_trigrams(content):\n",
    "    return[trigram_mod[bigram_mod[article]] for article in content]"
   ]
  },
  {
   "cell_type": "code",
   "execution_count": 8,
   "metadata": {},
   "outputs": [],
   "source": [
    "# Define function to remove stopwords\n",
    "def remove_stopwords(text):\n",
    "    #create list with every word in a song if they are not stop word for every song in lyrics list\n",
    "    return [[word for word in simple_preprocess(str(article)) if word not in stop_words] for article in text]\n",
    "\n",
    "#define lemmatization function\n",
    "def lemmatization(text, allowed_postags=['NOUN', 'ADJ', 'VERB', 'ADV']):\n",
    "    texts_out = []\n",
    "    for entry in text:\n",
    "        #nlp object spacy \n",
    "        article = nlp(\" \".join(entry))\n",
    "        texts_out.append([word.lemma_ for word in article if word.pos_ in allowed_postags])\n",
    "    return texts_out"
   ]
  },
  {
   "cell_type": "code",
   "execution_count": 9,
   "metadata": {},
   "outputs": [],
   "source": [
    "#call stopwords function\n",
    "data_words_nostops = remove_stopwords(data_words)"
   ]
  },
  {
   "cell_type": "code",
   "execution_count": 10,
   "metadata": {},
   "outputs": [],
   "source": [
    "#print(data_words_nostops[:1])"
   ]
  },
  {
   "cell_type": "code",
   "execution_count": 11,
   "metadata": {},
   "outputs": [],
   "source": [
    "#optional - call function to make bigrams for dataset\n",
    "data_words_bigrams = make_bigrams(data_words_nostops)"
   ]
  },
  {
   "cell_type": "code",
   "execution_count": 12,
   "metadata": {},
   "outputs": [],
   "source": [
    "#call lemmatize function\n",
    "nlp = spacy.load('en', disable=['parser', 'ner'])\n",
    "data_lemmatized = lemmatization(data_words_bigrams, allowed_postags=['NOUN', 'ADJ', 'VERB', 'ADV'])"
   ]
  },
  {
   "cell_type": "code",
   "execution_count": 13,
   "metadata": {},
   "outputs": [
    {
     "name": "stdout",
     "output_type": "stream",
     "text": [
      "Stored 'data_lemmatized' (list)\n"
     ]
    }
   ],
   "source": [
    "%store data_lemmatized"
   ]
  },
  {
   "cell_type": "code",
   "execution_count": 13,
   "metadata": {},
   "outputs": [],
   "source": [
    "#print(data_lemmatized[:1])"
   ]
  },
  {
   "cell_type": "markdown",
   "metadata": {},
   "source": [
    "### Bag of words similarity matrix"
   ]
  },
  {
   "cell_type": "code",
   "execution_count": 3,
   "metadata": {},
   "outputs": [],
   "source": [
    "#create Dictionary for topic modelling which assigns unique id for each word in lyrics data\n",
    "id2word = corpora.Dictionary(data_lemmatized)\n",
    "\n",
    "#create Corpus\n",
    "texts = data_lemmatized\n",
    "\n",
    "#Term document frequency, corpus is list of list of tuples in which word id x occurs y times in song\n",
    "corpus = [id2word.doc2bow(t) for t in texts]\n"
   ]
  },
  {
   "cell_type": "code",
   "execution_count": 20,
   "metadata": {},
   "outputs": [
    {
     "data": {
      "text/plain": [
       "list"
      ]
     },
     "execution_count": 20,
     "metadata": {},
     "output_type": "execute_result"
    }
   ],
   "source": [
    "#df.head()"
   ]
  },
  {
   "cell_type": "code",
   "execution_count": 30,
   "metadata": {},
   "outputs": [],
   "source": [
    "index = similarities.MatrixSimilarity(corpus, num_features=len(id2word), num_best = 200)"
   ]
  },
  {
   "cell_type": "code",
   "execution_count": 10,
   "metadata": {},
   "outputs": [],
   "source": [
    "def recommender (query):\n",
    "    recs = []\n",
    "    i = df.index[df['id'] == query].tolist()[0]\n",
    "    words = data_lemmatized[i]\n",
    "    query_vector = id2word.doc2bow(words)\n",
    "    sims = index[query_vector]\n",
    "    return sims"
   ]
  },
  {
   "cell_type": "code",
   "execution_count": 11,
   "metadata": {},
   "outputs": [],
   "source": [
    "def see_recs(sims):\n",
    "    count = 0\n",
    "    recs = []\n",
    "    for r in sims:\n",
    "        i = r[0]\n",
    "        article = df.iloc[i]['title'] + \" \" + str(r[1])\n",
    "        if article not in recs:\n",
    "            recs.append(article)\n",
    "            count += 1\n",
    "            if count == 10:\n",
    "                break                                                                     \n",
    "    pprint(recs)"
   ]
  },
  {
   "cell_type": "code",
   "execution_count": 39,
   "metadata": {
    "scrolled": true
   },
   "outputs": [
    {
     "name": "stdout",
     "output_type": "stream",
     "text": [
      "['The Oscars Once Again Prove Outdated and Irrelevant 1.0',\n",
      " \"Deconstructing Diversity in this Year's 'Best Director' Nominations \"\n",
      " '0.6139607429504395',\n",
      " \"The Oscars are a Man's World 0.5136854648590088\",\n",
      " 'Oscar Nominations: The Biggest Snubs and Surprises 0.5058308839797974',\n",
      " 'Oscars Firsts: Celebrating Women Behind the Camera 0.4797067940235138',\n",
      " \"Street's Predictions for the 91st Academy Awards  0.46004679799079895\",\n",
      " 'Oscars 2014: Five Biggest Snubs 0.44958004355430603',\n",
      " \"Charlize theron's golden globes 0.44917550683021545\",\n",
      " \"The Oscars' 'Best Popular Film' Award: Blurring the Lines Between Commercial \"\n",
      " 'and Artistic Success 0.43383675813674927',\n",
      " 'How to Make an Oscar–Winning Film 0.4062246084213257']\n"
     ]
    }
   ],
   "source": [
    "see_recs(recommender(37013))"
   ]
  },
  {
   "cell_type": "code",
   "execution_count": 40,
   "metadata": {},
   "outputs": [
    {
     "name": "stdout",
     "output_type": "stream",
     "text": [
      "['Frances Quinlan Comes Full Circle in Her Solo Debut 1.0',\n",
      " '10 Songs Instrumental to our Experiences  0.5275651216506958',\n",
      " 'Interviewing Waterparks Frontman Awsten Knight 0.4949963092803955',\n",
      " 'Street Writers Choose Their Desert Island Discs 0.48726117610931396',\n",
      " 'Queen of the Hill Meets the Hippest Cat in Town 0.4734741747379303',\n",
      " \"'Nation of Two' by Vance Joy Doesn't Hold Up 0.470693439245224\",\n",
      " 'You Should Know About: Cullen Omori 0.4648980498313904',\n",
      " 'And The Album Of The Year Is... 0.4648503065109253',\n",
      " 'Interview: Atlas Genius 0.4570596218109131',\n",
      " \"Mannequin Pussy Aren't What You Expect 0.45556217432022095\"]\n"
     ]
    }
   ],
   "source": [
    "see_recs(recommender(37011))"
   ]
  },
  {
   "cell_type": "code",
   "execution_count": 41,
   "metadata": {},
   "outputs": [
    {
     "name": "stdout",
     "output_type": "stream",
     "text": [
      "['Meet Tori Borlase: The UA Representative Who Organized the Philadelphia '\n",
      " 'Climate Strike 1.0000001192092896',\n",
      " 'Caution vs. Revolution: The Divide on Climate Change 0.4000192880630493',\n",
      " \"Don't Argue With Anish Welde, Penn's Top Novice Debater  0.3891429305076599\",\n",
      " 'Not Enough  0.37514394521713257',\n",
      " 'I Went Back to High School, and It Felt Like I Was Still at Penn  '\n",
      " '0.3673226833343506',\n",
      " 'Meet Natasha Menon, Your New UA President 0.3665757179260254',\n",
      " 'Ego of the Week: Connor Swords 0.3633180856704712',\n",
      " 'JMHH Awards: Students Breaking Wharton Stereotypes  0.36320754885673523',\n",
      " 'Penn 10: Krisna Maddy 0.36231887340545654',\n",
      " 'From the West Bank to West Philadelphia  0.36064159870147705']\n"
     ]
    }
   ],
   "source": [
    "see_recs(recommender(35967))"
   ]
  },
  {
   "cell_type": "code",
   "execution_count": 42,
   "metadata": {},
   "outputs": [
    {
     "name": "stdout",
     "output_type": "stream",
     "text": [
      "['Meet Tori Borlase: The UA Representative Who Organized the Philadelphia '\n",
      " 'Climate Strike 0.8200399875640869',\n",
      " 'Caution vs. Revolution: The Divide on Climate Change 0.27989792823791504',\n",
      " 'Ego of the Week: Connor Swords 0.23656034469604492',\n",
      " 'I Went Back to High School, and It Felt Like I Was Still at Penn  '\n",
      " '0.22411540150642395',\n",
      " \"Qu'est-ce Que C'est Chick-Lit? 0.2205362766981125\",\n",
      " 'Ego of the Week: Nicolas Garcia 0.2145242989063263',\n",
      " 'Not Enough  0.2085728794336319',\n",
      " \"Don't Argue With Anish Welde, Penn's Top Novice Debater  0.199131578207016\",\n",
      " 'Ego of the Week: Jordan Williams  0.19467931985855103',\n",
      " 'Ego of the Week: Nicholas Escobar 0.1915401965379715']\n"
     ]
    }
   ],
   "source": [
    "see_recs(tfidf_recommender(35967))"
   ]
  },
  {
   "cell_type": "code",
   "execution_count": 40,
   "metadata": {},
   "outputs": [
    {
     "name": "stdout",
     "output_type": "stream",
     "text": [
      "['Can Cakes and Sweaters Enact Political Change?',\n",
      " 'How Your Insta Feed Can Boost Your Self Esteem ',\n",
      " 'Open Studios Preview: Out in the Open with Nowhere to Hide',\n",
      " 'Art and Politics: An Introduction',\n",
      " 'The Best Ways to Eat Your Booze',\n",
      " 'The Insta–Famous Food Blogs of Penn You Need to Follow',\n",
      " \"Celebrate Women's History Month in Philadelphia\",\n",
      " \"What to Read After Finishing Michelle Obama's 'Becoming'\",\n",
      " \"Revisiting 'All The President’s' Men In Light of 'The Post'\",\n",
      " 'How to Spend Your Day in Old City']\n"
     ]
    }
   ],
   "source": [
    "see_recs(recommender(35451))"
   ]
  },
  {
   "cell_type": "code",
   "execution_count": 35,
   "metadata": {},
   "outputs": [
    {
     "name": "stdout",
     "output_type": "stream",
     "text": [
      "['Can Cakes and Sweaters Enact Political Change?',\n",
      " \"Celebrate Women's History Month in Philadelphia\",\n",
      " 'How Your Insta Feed Can Boost Your Self Esteem ',\n",
      " 'The Insta–Famous Food Blogs of Penn You Need to Follow',\n",
      " 'How to Prove You’re Open–Minded to That Facebook Friend You Haven’t Seen in '\n",
      " 'Five Years',\n",
      " 'Open Studios Preview: Out in the Open with Nowhere to Hide',\n",
      " 'The Best Ways to Eat Your Booze',\n",
      " 'How to Spend Your Day in Old City',\n",
      " 'Baked Girl: Five-Minute Mug Cakes',\n",
      " \"What to Read After Finishing Michelle Obama's 'Becoming'\"]\n"
     ]
    }
   ],
   "source": [
    "see_recs(tfidf_recommender(35451))"
   ]
  },
  {
   "cell_type": "code",
   "execution_count": 19,
   "metadata": {
    "scrolled": true
   },
   "outputs": [
    {
     "name": "stdout",
     "output_type": "stream",
     "text": [
      "['Overheards 11.17.16',\n",
      " 'Overheard at Penn: 03.17.2011',\n",
      " 'Overheards: 10.23.14',\n",
      " 'Overheard at Penn: 3.14.13',\n",
      " 'Best campus eatery to find a cute girl',\n",
      " 'SHOUTOUTS. Fall 2011',\n",
      " \"Is 'Tall Girl' Really that Bad?\",\n",
      " 'Word on the Street: Everybody Has a Story',\n",
      " 'OVERHEARDS 3.24.16',\n",
      " 'Overheard at Penn: 1.17.13']\n"
     ]
    }
   ],
   "source": [
    "see_recs(recommender(30372))"
   ]
  },
  {
   "cell_type": "code",
   "execution_count": 43,
   "metadata": {},
   "outputs": [
    {
     "name": "stdout",
     "output_type": "stream",
     "text": [
      "['Overheards 11.17.16 0.8232963681221008',\n",
      " 'Overheards: 10.23.14 0.2453722357749939',\n",
      " 'Overheard at Penn: 03.17.2011 0.22762887179851532',\n",
      " 'On Getting Cut 0.1869812160730362',\n",
      " 'An Open Letter to Sad Freshmen Girls 0.1767139732837677',\n",
      " 'Street Shout-Outs 0.1733660101890564',\n",
      " 'Shoutouts Fall 2006 0.1727592647075653',\n",
      " 'No Valentine, No Problem 0.17058919370174408',\n",
      " 'DO YOU HAVE AN ANONYMOUS ROMANCE-RELATED MESSAGE FOR ANYONE AT PENN? '\n",
      " '0.1669594943523407',\n",
      " 'On Getting Cut 0.16638025641441345']\n"
     ]
    }
   ],
   "source": [
    "see_recs(tfidf_recommender(30372))"
   ]
  },
  {
   "cell_type": "markdown",
   "metadata": {},
   "source": [
    "### TF-IDF"
   ]
  },
  {
   "cell_type": "code",
   "execution_count": 20,
   "metadata": {},
   "outputs": [],
   "source": [
    "tfidf = gensim.models.TfidfModel(corpus)"
   ]
  },
  {
   "cell_type": "code",
   "execution_count": 27,
   "metadata": {},
   "outputs": [],
   "source": [
    "tfidf_index = similarities.MatrixSimilarity(tfidf[corpus], num_features=len(id2word), num_best = 200)"
   ]
  },
  {
   "cell_type": "code",
   "execution_count": 28,
   "metadata": {},
   "outputs": [],
   "source": [
    "def tfidf_recommender (query):\n",
    "    recs = []\n",
    "    i = df.index[df['id'] == query].tolist()[0]\n",
    "    words = data_lemmatized[i]\n",
    "    query_vector = id2word.doc2bow(words)\n",
    "    sims = tfidf_index[query_vector]\n",
    "    return sims"
   ]
  },
  {
   "cell_type": "code",
   "execution_count": 29,
   "metadata": {},
   "outputs": [
    {
     "name": "stdout",
     "output_type": "stream",
     "text": [
      "['The Oscars Once Again Prove Outdated and Irrelevant',\n",
      " \"Deconstructing Diversity in this Year's 'Best Director' Nominations\",\n",
      " \"The Oscars are a Man's World\",\n",
      " 'Oscars Firsts: Celebrating Women Behind the Camera',\n",
      " 'Oscar Nominations: The Biggest Snubs and Surprises',\n",
      " 'Which Best Picture Nomination Speaks to Your Soul?',\n",
      " 'Is the \"Oscar Curse\" Real? ',\n",
      " \"The Oscars' 'Best Popular Film' Award: Blurring the Lines Between Commercial \"\n",
      " 'and Artistic Success',\n",
      " \"Charlize theron's golden globes\",\n",
      " 'How to Make an Oscar–Winning Film']\n"
     ]
    }
   ],
   "source": [
    "see_recs(tfidf_recommender(37013))"
   ]
  },
  {
   "cell_type": "markdown",
   "metadata": {},
   "source": [
    "### Training LDA Model"
   ]
  },
  {
   "cell_type": "code",
   "execution_count": 1,
   "metadata": {},
   "outputs": [],
   "source": [
    "#build LDA Model with ten topics\n",
    "lda_model50 = gensim.models.ldamodel.LdaModel(corpus=corpus,\n",
    "                                           id2word=id2word,\n",
    "                                           num_topics=50, \n",
    "                                           random_state=100,\n",
    "                                           update_every=1,\n",
    "                                           chunksize=100,\n",
    "                                           passes=10,\n",
    "                                           alpha='auto',\n",
    "                                           per_word_topics=True)"
   ]
  },
  {
   "cell_type": "code",
   "execution_count": 30,
   "metadata": {},
   "outputs": [
    {
     "name": "stdout",
     "output_type": "stream",
     "text": [
      "Stored 'lda_model50' (LdaModel)\n"
     ]
    }
   ],
   "source": [
    "%store lda_model50"
   ]
  },
  {
   "cell_type": "code",
   "execution_count": 24,
   "metadata": {},
   "outputs": [],
   "source": [
    "%store -r lda_model50"
   ]
  },
  {
   "cell_type": "code",
   "execution_count": 25,
   "metadata": {},
   "outputs": [],
   "source": [
    "coherence_model = CoherenceModel(model=lda_model50, texts=data_lemmatized, dictionary=id2word, coherence='c_v')"
   ]
  },
  {
   "cell_type": "code",
   "execution_count": 26,
   "metadata": {},
   "outputs": [
    {
     "name": "stdout",
     "output_type": "stream",
     "text": [
      "\n",
      "Coherence Score:  0.4861981110531002\n"
     ]
    }
   ],
   "source": [
    "coherence = coherence_model.get_coherence()\n",
    "print('\\nCoherence Score: ', coherence)"
   ]
  },
  {
   "cell_type": "code",
   "execution_count": 31,
   "metadata": {},
   "outputs": [
    {
     "name": "stdout",
     "output_type": "stream",
     "text": [
      "[(32,\n",
      "  '0.094*\"stewart\" + 0.076*\"army\" + 0.069*\"ica\" + 0.055*\"carter\" + '\n",
      "  '0.040*\"klein\" + 0.031*\"leo\" + 0.021*\"laboratory\" + 0.021*\"decay\" + '\n",
      "  '0.013*\"summary\" + 0.005*\"winding\"'),\n",
      " (20,\n",
      "  '0.192*\"celebrity\" + 0.144*\"lip\" + 0.082*\"makeup\" + 0.069*\"catholic\" + '\n",
      "  '0.024*\"cosmetic\" + 0.008*\"appliance\" + 0.004*\"halo\" + 0.000*\"warmup\" + '\n",
      "  '0.000*\"mesoamerican\" + 0.000*\"perineum\"'),\n",
      " (28,\n",
      "  '0.118*\"toy\" + 0.077*\"mexico\" + 0.074*\"marathon\" + 0.065*\"sincere\" + '\n",
      "  '0.045*\"neil\" + 0.042*\"maggie\" + 0.037*\"reunion\" + 0.035*\"ian\" + '\n",
      "  '0.029*\"lawn\" + 0.028*\"down\"'),\n",
      " (44,\n",
      "  '0.182*\"web\" + 0.130*\"lisa\" + 0.076*\"ipod\" + 0.051*\"beyonce\" + 0.048*\"mic\" + '\n",
      "  '0.045*\"essential\" + 0.039*\"poet\" + 0.016*\"regain\" + 0.011*\"subversive\" + '\n",
      "  '0.009*\"proactive\"'),\n",
      " (0,\n",
      "  '0.108*\"butter\" + 0.085*\"peanut\" + 0.072*\"veteran\" + 0.051*\"geek\" + '\n",
      "  '0.032*\"pc\" + 0.031*\"hannah\" + 0.028*\"tang\" + 0.023*\"caroline\" + '\n",
      "  '0.021*\"perry\" + 0.018*\"eating\"'),\n",
      " (48,\n",
      "  '0.181*\"creek\" + 0.137*\"skin\" + 0.127*\"france\" + 0.062*\"establishment\" + '\n",
      "  '0.047*\"dec\" + 0.023*\"beauty\" + 0.022*\"diy\" + 0.021*\"airplane\" + '\n",
      "  '0.017*\"convenience\" + 0.015*\"bronze\"'),\n",
      " (42,\n",
      "  '0.127*\"peter\" + 0.066*\"mile\" + 0.056*\"robot\" + 0.049*\"noah\" + 0.041*\"amy\" + '\n",
      "  '0.024*\"goofy\" + 0.022*\"fuzzy\" + 0.022*\"brook\" + 0.019*\"squad\" + '\n",
      "  '0.018*\"imaginary\"'),\n",
      " (49,\n",
      "  '0.080*\"moon\" + 0.078*\"kevin\" + 0.061*\"thief\" + 0.046*\"shred\" + '\n",
      "  '0.045*\"blank\" + 0.038*\"map\" + 0.036*\"curtis\" + 0.027*\"mode\" + '\n",
      "  '0.025*\"polished\" + 0.023*\"victorian\"'),\n",
      " (17,\n",
      "  '0.103*\"holiday\" + 0.101*\"halloween\" + 0.081*\"oct\" + 0.057*\"christmas\" + '\n",
      "  '0.050*\"nov\" + 0.045*\"feb\" + 0.044*\"independence\" + 0.043*\"jan\" + 0.034*\"pm\" '\n",
      "  '+ 0.023*\"lantern\"'),\n",
      " (1,\n",
      "  '0.134*\"rachel\" + 0.130*\"smith\" + 0.129*\"steve\" + 0.041*\"elizabeth\" + '\n",
      "  '0.030*\"christopher\" + 0.028*\"anna\" + 0.028*\"sketch\" + 0.026*\"blast\" + '\n",
      "  '0.024*\"oliver\" + 0.023*\"renowned\"'),\n",
      " (13,\n",
      "  '0.038*\"food\" + 0.024*\"restaurant\" + 0.019*\"menu\" + 0.016*\"meal\" + '\n",
      "  '0.014*\"cheese\" + 0.014*\"serve\" + 0.013*\"chicken\" + 0.013*\"dish\" + '\n",
      "  '0.010*\"eat\" + 0.010*\"fresh\"'),\n",
      " (22,\n",
      "  '0.060*\"penn\" + 0.043*\"student\" + 0.024*\"say\" + 0.019*\"school\" + '\n",
      "  '0.016*\"year\" + 0.015*\"college\" + 0.013*\"class\" + 0.013*\"group\" + '\n",
      "  '0.012*\"study\" + 0.011*\"community\"'),\n",
      " (35,\n",
      "  '0.022*\"family\" + 0.021*\"life\" + 0.020*\"story\" + 0.019*\"american\" + '\n",
      "  '0.018*\"man\" + 0.018*\"david\" + 0.018*\"child\" + 0.014*\"war\" + 0.012*\"live\" + '\n",
      "  '0.012*\"father\"'),\n",
      " (14,\n",
      "  '0.021*\"black\" + 0.019*\"white\" + 0.014*\"style\" + 0.014*\"wear\" + 0.012*\"look\" '\n",
      "  '+ 0.011*\"eye\" + 0.011*\"shirt\" + 0.009*\"dress\" + 0.009*\"color\" + '\n",
      "  '0.008*\"face\"'),\n",
      " (47,\n",
      "  '0.033*\"girl\" + 0.033*\"love\" + 0.030*\"get\" + 0.026*\"good\" + 0.026*\"guy\" + '\n",
      "  '0.024*\"boy\" + 0.021*\"know\" + 0.017*\"sex\" + 0.016*\"friend\" + 0.013*\"hot\"'),\n",
      " (25,\n",
      "  '0.018*\"night\" + 0.016*\"house\" + 0.015*\"place\" + 0.014*\"look\" + 0.014*\"bar\" '\n",
      "  '+ 0.013*\"room\" + 0.012*\"sit\" + 0.012*\"beer\" + 0.011*\"sun\" + 0.010*\"line\"'),\n",
      " (43,\n",
      "  '0.018*\"new\" + 0.017*\"year\" + 0.016*\"play\" + 0.016*\"game\" + 0.011*\"big\" + '\n",
      "  '0.010*\"last\" + 0.010*\"name\" + 0.010*\"man\" + 0.008*\"team\" + 0.008*\"rare\"'),\n",
      " (41,\n",
      "  '0.026*\"day\" + 0.018*\"time\" + 0.016*\"take\" + 0.014*\"week\" + 0.014*\"leave\" + '\n",
      "  '0.012*\"get\" + 0.009*\"home\" + 0.009*\"back\" + 0.009*\"go\" + 0.008*\"need\"'),\n",
      " (12,\n",
      "  '0.015*\"make\" + 0.012*\"new\" + 0.012*\"seem\" + 0.011*\"however\" + 0.011*\"may\" + '\n",
      "  '0.010*\"first\" + 0.009*\"well\" + 0.008*\"many\" + 0.008*\"create\" + '\n",
      "  '0.007*\"also\"'),\n",
      " (40,\n",
      "  '0.027*\"go\" + 0.024*\"say\" + 0.022*\"think\" + 0.021*\"get\" + 0.021*\"people\" + '\n",
      "  '0.021*\"know\" + 0.018*\"make\" + 0.018*\"really\" + 0.018*\"would\" + '\n",
      "  '0.016*\"want\"')]\n"
     ]
    },
    {
     "name": "stderr",
     "output_type": "stream",
     "text": [
      "Traceback (most recent call last):\n",
      "  File \"/anaconda3/lib/python3.7/multiprocessing/queues.py\", line 242, in _feed\n",
      "    send_bytes(obj)\n",
      "  File \"/anaconda3/lib/python3.7/multiprocessing/connection.py\", line 200, in send_bytes\n",
      "    self._send_bytes(m[offset:offset + size])\n",
      "  File \"/anaconda3/lib/python3.7/multiprocessing/connection.py\", line 398, in _send_bytes\n",
      "    self._send(buf)\n",
      "  File \"/anaconda3/lib/python3.7/multiprocessing/connection.py\", line 368, in _send\n",
      "    n = write(self._handle, buf)\n",
      "BrokenPipeError: [Errno 32] Broken pipe\n",
      "Traceback (most recent call last):\n",
      "  File \"/anaconda3/lib/python3.7/multiprocessing/queues.py\", line 242, in _feed\n",
      "    send_bytes(obj)\n",
      "  File \"/anaconda3/lib/python3.7/multiprocessing/connection.py\", line 200, in send_bytes\n",
      "    self._send_bytes(m[offset:offset + size])\n",
      "  File \"/anaconda3/lib/python3.7/multiprocessing/connection.py\", line 397, in _send_bytes\n",
      "    self._send(header)\n",
      "  File \"/anaconda3/lib/python3.7/multiprocessing/connection.py\", line 368, in _send\n",
      "    n = write(self._handle, buf)\n",
      "BrokenPipeError: [Errno 32] Broken pipe\n",
      "/anaconda3/lib/python3.7/site-packages/gensim/topic_coherence/direct_confirmation_measure.py:204: RuntimeWarning: divide by zero encountered in double_scalars\n",
      "  m_lr_i = np.log(numerator / denominator)\n",
      "/anaconda3/lib/python3.7/site-packages/gensim/topic_coherence/indirect_confirmation_measure.py:323: RuntimeWarning: invalid value encountered in double_scalars\n",
      "  return cv1.T.dot(cv2)[0, 0] / (_magnitude(cv1) * _magnitude(cv2))\n"
     ]
    },
    {
     "ename": "KeyboardInterrupt",
     "evalue": "",
     "output_type": "error",
     "traceback": [
      "\u001b[0;31m---------------------------------------------------------------------------\u001b[0m",
      "\u001b[0;31mKeyboardInterrupt\u001b[0m                         Traceback (most recent call last)",
      "\u001b[0;32m<ipython-input-31-65adee9db252>\u001b[0m in \u001b[0;36m<module>\u001b[0;34m\u001b[0m\n\u001b[1;32m      2\u001b[0m \u001b[0mpprint\u001b[0m\u001b[0;34m(\u001b[0m\u001b[0mlda_model50\u001b[0m\u001b[0;34m.\u001b[0m\u001b[0mprint_topics\u001b[0m\u001b[0;34m(\u001b[0m\u001b[0mnum_words\u001b[0m\u001b[0;34m=\u001b[0m\u001b[0;36m10\u001b[0m\u001b[0;34m)\u001b[0m\u001b[0;34m)\u001b[0m\u001b[0;34m\u001b[0m\u001b[0;34m\u001b[0m\u001b[0m\n\u001b[1;32m      3\u001b[0m \u001b[0mcoherence_model_lda\u001b[0m \u001b[0;34m=\u001b[0m \u001b[0mCoherenceModel\u001b[0m\u001b[0;34m(\u001b[0m\u001b[0mmodel\u001b[0m\u001b[0;34m=\u001b[0m\u001b[0mlda_model50\u001b[0m\u001b[0;34m,\u001b[0m \u001b[0mtexts\u001b[0m\u001b[0;34m=\u001b[0m\u001b[0mdata_lemmatized\u001b[0m\u001b[0;34m,\u001b[0m \u001b[0mdictionary\u001b[0m\u001b[0;34m=\u001b[0m\u001b[0mid2word\u001b[0m\u001b[0;34m,\u001b[0m \u001b[0mcoherence\u001b[0m\u001b[0;34m=\u001b[0m\u001b[0;34m'c_v'\u001b[0m\u001b[0;34m)\u001b[0m\u001b[0;34m\u001b[0m\u001b[0;34m\u001b[0m\u001b[0m\n\u001b[0;32m----> 4\u001b[0;31m \u001b[0mcoherence_lda\u001b[0m \u001b[0;34m=\u001b[0m \u001b[0mcoherence_model_lda\u001b[0m\u001b[0;34m.\u001b[0m\u001b[0mget_coherence\u001b[0m\u001b[0;34m(\u001b[0m\u001b[0;34m)\u001b[0m\u001b[0;34m\u001b[0m\u001b[0;34m\u001b[0m\u001b[0m\n\u001b[0m\u001b[1;32m      5\u001b[0m \u001b[0mprint\u001b[0m\u001b[0;34m(\u001b[0m\u001b[0;34m'\\nCoherence Score: '\u001b[0m\u001b[0;34m,\u001b[0m \u001b[0mcoherence_lda\u001b[0m\u001b[0;34m)\u001b[0m\u001b[0;34m\u001b[0m\u001b[0;34m\u001b[0m\u001b[0m\n",
      "\u001b[0;32m/anaconda3/lib/python3.7/site-packages/gensim/models/coherencemodel.py\u001b[0m in \u001b[0;36mget_coherence\u001b[0;34m(self)\u001b[0m\n\u001b[1;32m    607\u001b[0m \u001b[0;34m\u001b[0m\u001b[0m\n\u001b[1;32m    608\u001b[0m         \"\"\"\n\u001b[0;32m--> 609\u001b[0;31m         \u001b[0mconfirmed_measures\u001b[0m \u001b[0;34m=\u001b[0m \u001b[0mself\u001b[0m\u001b[0;34m.\u001b[0m\u001b[0mget_coherence_per_topic\u001b[0m\u001b[0;34m(\u001b[0m\u001b[0;34m)\u001b[0m\u001b[0;34m\u001b[0m\u001b[0;34m\u001b[0m\u001b[0m\n\u001b[0m\u001b[1;32m    610\u001b[0m         \u001b[0;32mreturn\u001b[0m \u001b[0mself\u001b[0m\u001b[0;34m.\u001b[0m\u001b[0maggregate_measures\u001b[0m\u001b[0;34m(\u001b[0m\u001b[0mconfirmed_measures\u001b[0m\u001b[0;34m)\u001b[0m\u001b[0;34m\u001b[0m\u001b[0;34m\u001b[0m\u001b[0m\n\u001b[1;32m    611\u001b[0m \u001b[0;34m\u001b[0m\u001b[0m\n",
      "\u001b[0;32m/anaconda3/lib/python3.7/site-packages/gensim/models/coherencemodel.py\u001b[0m in \u001b[0;36mget_coherence_per_topic\u001b[0;34m(self, segmented_topics, with_std, with_support)\u001b[0m\n\u001b[1;32m    579\u001b[0m             \u001b[0mkwargs\u001b[0m\u001b[0;34m[\u001b[0m\u001b[0;34m'normalize'\u001b[0m\u001b[0;34m]\u001b[0m \u001b[0;34m=\u001b[0m \u001b[0;34m(\u001b[0m\u001b[0mself\u001b[0m\u001b[0;34m.\u001b[0m\u001b[0mcoherence\u001b[0m \u001b[0;34m==\u001b[0m \u001b[0;34m'c_npmi'\u001b[0m\u001b[0;34m)\u001b[0m\u001b[0;34m\u001b[0m\u001b[0;34m\u001b[0m\u001b[0m\n\u001b[1;32m    580\u001b[0m \u001b[0;34m\u001b[0m\u001b[0m\n\u001b[0;32m--> 581\u001b[0;31m         \u001b[0;32mreturn\u001b[0m \u001b[0mmeasure\u001b[0m\u001b[0;34m.\u001b[0m\u001b[0mconf\u001b[0m\u001b[0;34m(\u001b[0m\u001b[0msegmented_topics\u001b[0m\u001b[0;34m,\u001b[0m \u001b[0mself\u001b[0m\u001b[0;34m.\u001b[0m\u001b[0m_accumulator\u001b[0m\u001b[0;34m,\u001b[0m \u001b[0;34m**\u001b[0m\u001b[0mkwargs\u001b[0m\u001b[0;34m)\u001b[0m\u001b[0;34m\u001b[0m\u001b[0;34m\u001b[0m\u001b[0m\n\u001b[0m\u001b[1;32m    582\u001b[0m \u001b[0;34m\u001b[0m\u001b[0m\n\u001b[1;32m    583\u001b[0m     \u001b[0;32mdef\u001b[0m \u001b[0maggregate_measures\u001b[0m\u001b[0;34m(\u001b[0m\u001b[0mself\u001b[0m\u001b[0;34m,\u001b[0m \u001b[0mtopic_coherences\u001b[0m\u001b[0;34m)\u001b[0m\u001b[0;34m:\u001b[0m\u001b[0;34m\u001b[0m\u001b[0;34m\u001b[0m\u001b[0m\n",
      "\u001b[0;32m/anaconda3/lib/python3.7/site-packages/gensim/topic_coherence/indirect_confirmation_measure.py\u001b[0m in \u001b[0;36mcosine_similarity\u001b[0;34m(segmented_topics, accumulator, topics, measure, gamma, with_std, with_support)\u001b[0m\n\u001b[1;32m    174\u001b[0m         \u001b[0msegment_sims\u001b[0m \u001b[0;34m=\u001b[0m \u001b[0mnp\u001b[0m\u001b[0;34m.\u001b[0m\u001b[0mzeros\u001b[0m\u001b[0;34m(\u001b[0m\u001b[0mlen\u001b[0m\u001b[0;34m(\u001b[0m\u001b[0mtopic_segments\u001b[0m\u001b[0;34m)\u001b[0m\u001b[0;34m)\u001b[0m\u001b[0;34m\u001b[0m\u001b[0;34m\u001b[0m\u001b[0m\n\u001b[1;32m    175\u001b[0m         \u001b[0;32mfor\u001b[0m \u001b[0mi\u001b[0m\u001b[0;34m,\u001b[0m \u001b[0;34m(\u001b[0m\u001b[0mw_prime\u001b[0m\u001b[0;34m,\u001b[0m \u001b[0mw_star\u001b[0m\u001b[0;34m)\u001b[0m \u001b[0;32min\u001b[0m \u001b[0menumerate\u001b[0m\u001b[0;34m(\u001b[0m\u001b[0mtopic_segments\u001b[0m\u001b[0;34m)\u001b[0m\u001b[0;34m:\u001b[0m\u001b[0;34m\u001b[0m\u001b[0;34m\u001b[0m\u001b[0m\n\u001b[0;32m--> 176\u001b[0;31m             \u001b[0mw_prime_cv\u001b[0m \u001b[0;34m=\u001b[0m \u001b[0mcontext_vectors\u001b[0m\u001b[0;34m[\u001b[0m\u001b[0mw_prime\u001b[0m\u001b[0;34m,\u001b[0m \u001b[0mtopic_words\u001b[0m\u001b[0;34m]\u001b[0m\u001b[0;34m\u001b[0m\u001b[0;34m\u001b[0m\u001b[0m\n\u001b[0m\u001b[1;32m    177\u001b[0m             \u001b[0mw_star_cv\u001b[0m \u001b[0;34m=\u001b[0m \u001b[0mcontext_vectors\u001b[0m\u001b[0;34m[\u001b[0m\u001b[0mw_star\u001b[0m\u001b[0;34m,\u001b[0m \u001b[0mtopic_words\u001b[0m\u001b[0;34m]\u001b[0m\u001b[0;34m\u001b[0m\u001b[0;34m\u001b[0m\u001b[0m\n\u001b[1;32m    178\u001b[0m             \u001b[0msegment_sims\u001b[0m\u001b[0;34m[\u001b[0m\u001b[0mi\u001b[0m\u001b[0;34m]\u001b[0m \u001b[0;34m=\u001b[0m \u001b[0m_cossim\u001b[0m\u001b[0;34m(\u001b[0m\u001b[0mw_prime_cv\u001b[0m\u001b[0;34m,\u001b[0m \u001b[0mw_star_cv\u001b[0m\u001b[0;34m)\u001b[0m\u001b[0;34m\u001b[0m\u001b[0;34m\u001b[0m\u001b[0m\n",
      "\u001b[0;32m/anaconda3/lib/python3.7/site-packages/gensim/topic_coherence/indirect_confirmation_measure.py\u001b[0m in \u001b[0;36m__getitem__\u001b[0;34m(self, idx)\u001b[0m\n\u001b[1;32m    246\u001b[0m \u001b[0;34m\u001b[0m\u001b[0m\n\u001b[1;32m    247\u001b[0m     \u001b[0;32mdef\u001b[0m \u001b[0m__getitem__\u001b[0m\u001b[0;34m(\u001b[0m\u001b[0mself\u001b[0m\u001b[0;34m,\u001b[0m \u001b[0midx\u001b[0m\u001b[0;34m)\u001b[0m\u001b[0;34m:\u001b[0m\u001b[0;34m\u001b[0m\u001b[0;34m\u001b[0m\u001b[0m\n\u001b[0;32m--> 248\u001b[0;31m         \u001b[0;32mreturn\u001b[0m \u001b[0mself\u001b[0m\u001b[0;34m.\u001b[0m\u001b[0mcompute_context_vector\u001b[0m\u001b[0;34m(\u001b[0m\u001b[0;34m*\u001b[0m\u001b[0midx\u001b[0m\u001b[0;34m)\u001b[0m\u001b[0;34m\u001b[0m\u001b[0;34m\u001b[0m\u001b[0m\n\u001b[0m\u001b[1;32m    249\u001b[0m \u001b[0;34m\u001b[0m\u001b[0m\n\u001b[1;32m    250\u001b[0m     \u001b[0;32mdef\u001b[0m \u001b[0mcompute_context_vector\u001b[0m\u001b[0;34m(\u001b[0m\u001b[0mself\u001b[0m\u001b[0;34m,\u001b[0m \u001b[0msegment_word_ids\u001b[0m\u001b[0;34m,\u001b[0m \u001b[0mtopic_word_ids\u001b[0m\u001b[0;34m)\u001b[0m\u001b[0;34m:\u001b[0m\u001b[0;34m\u001b[0m\u001b[0;34m\u001b[0m\u001b[0m\n",
      "\u001b[0;32m/anaconda3/lib/python3.7/site-packages/gensim/topic_coherence/indirect_confirmation_measure.py\u001b[0m in \u001b[0;36mcompute_context_vector\u001b[0;34m(self, segment_word_ids, topic_word_ids)\u001b[0m\n\u001b[1;32m    267\u001b[0m         \u001b[0mcontext_vector\u001b[0m \u001b[0;34m=\u001b[0m \u001b[0mself\u001b[0m\u001b[0;34m.\u001b[0m\u001b[0mcontext_vector_cache\u001b[0m\u001b[0;34m.\u001b[0m\u001b[0mget\u001b[0m\u001b[0;34m(\u001b[0m\u001b[0mkey\u001b[0m\u001b[0;34m,\u001b[0m \u001b[0;32mNone\u001b[0m\u001b[0;34m)\u001b[0m\u001b[0;34m\u001b[0m\u001b[0;34m\u001b[0m\u001b[0m\n\u001b[1;32m    268\u001b[0m         \u001b[0;32mif\u001b[0m \u001b[0mcontext_vector\u001b[0m \u001b[0;32mis\u001b[0m \u001b[0;32mNone\u001b[0m\u001b[0;34m:\u001b[0m\u001b[0;34m\u001b[0m\u001b[0;34m\u001b[0m\u001b[0m\n\u001b[0;32m--> 269\u001b[0;31m             \u001b[0mcontext_vector\u001b[0m \u001b[0;34m=\u001b[0m \u001b[0mself\u001b[0m\u001b[0;34m.\u001b[0m\u001b[0m_make_seg\u001b[0m\u001b[0;34m(\u001b[0m\u001b[0msegment_word_ids\u001b[0m\u001b[0;34m,\u001b[0m \u001b[0mtopic_word_ids\u001b[0m\u001b[0;34m)\u001b[0m\u001b[0;34m\u001b[0m\u001b[0;34m\u001b[0m\u001b[0m\n\u001b[0m\u001b[1;32m    270\u001b[0m             \u001b[0mself\u001b[0m\u001b[0;34m.\u001b[0m\u001b[0mcontext_vector_cache\u001b[0m\u001b[0;34m[\u001b[0m\u001b[0mkey\u001b[0m\u001b[0;34m]\u001b[0m \u001b[0;34m=\u001b[0m \u001b[0mcontext_vector\u001b[0m\u001b[0;34m\u001b[0m\u001b[0;34m\u001b[0m\u001b[0m\n\u001b[1;32m    271\u001b[0m         \u001b[0;32mreturn\u001b[0m \u001b[0mcontext_vector\u001b[0m\u001b[0;34m\u001b[0m\u001b[0;34m\u001b[0m\u001b[0m\n",
      "\u001b[0;32m/anaconda3/lib/python3.7/site-packages/gensim/topic_coherence/indirect_confirmation_measure.py\u001b[0m in \u001b[0;36m_make_seg\u001b[0;34m(self, segment_word_ids, topic_word_ids)\u001b[0m\n\u001b[1;32m    286\u001b[0m \u001b[0;34m\u001b[0m\u001b[0m\n\u001b[1;32m    287\u001b[0m         \"\"\"\n\u001b[0;32m--> 288\u001b[0;31m         \u001b[0mcontext_vector\u001b[0m \u001b[0;34m=\u001b[0m \u001b[0msps\u001b[0m\u001b[0;34m.\u001b[0m\u001b[0mlil_matrix\u001b[0m\u001b[0;34m(\u001b[0m\u001b[0;34m(\u001b[0m\u001b[0mself\u001b[0m\u001b[0;34m.\u001b[0m\u001b[0mvocab_size\u001b[0m\u001b[0;34m,\u001b[0m \u001b[0;36m1\u001b[0m\u001b[0;34m)\u001b[0m\u001b[0;34m)\u001b[0m\u001b[0;34m\u001b[0m\u001b[0;34m\u001b[0m\u001b[0m\n\u001b[0m\u001b[1;32m    289\u001b[0m         \u001b[0;32mif\u001b[0m \u001b[0;32mnot\u001b[0m \u001b[0mhasattr\u001b[0m\u001b[0;34m(\u001b[0m\u001b[0msegment_word_ids\u001b[0m\u001b[0;34m,\u001b[0m \u001b[0;34m'__iter__'\u001b[0m\u001b[0;34m)\u001b[0m\u001b[0;34m:\u001b[0m\u001b[0;34m\u001b[0m\u001b[0;34m\u001b[0m\u001b[0m\n\u001b[1;32m    290\u001b[0m             \u001b[0msegment_word_ids\u001b[0m \u001b[0;34m=\u001b[0m \u001b[0;34m(\u001b[0m\u001b[0msegment_word_ids\u001b[0m\u001b[0;34m,\u001b[0m\u001b[0;34m)\u001b[0m\u001b[0;34m\u001b[0m\u001b[0;34m\u001b[0m\u001b[0m\n",
      "\u001b[0;32m/anaconda3/lib/python3.7/site-packages/scipy/sparse/lil.py\u001b[0m in \u001b[0;36m__init__\u001b[0;34m(self, arg1, shape, dtype, copy)\u001b[0m\n\u001b[1;32m    113\u001b[0m                 \u001b[0;32mfor\u001b[0m \u001b[0mi\u001b[0m \u001b[0;32min\u001b[0m \u001b[0mrange\u001b[0m\u001b[0;34m(\u001b[0m\u001b[0mM\u001b[0m\u001b[0;34m)\u001b[0m\u001b[0;34m:\u001b[0m\u001b[0;34m\u001b[0m\u001b[0;34m\u001b[0m\u001b[0m\n\u001b[1;32m    114\u001b[0m                     \u001b[0mself\u001b[0m\u001b[0;34m.\u001b[0m\u001b[0mrows\u001b[0m\u001b[0;34m[\u001b[0m\u001b[0mi\u001b[0m\u001b[0;34m]\u001b[0m \u001b[0;34m=\u001b[0m \u001b[0;34m[\u001b[0m\u001b[0;34m]\u001b[0m\u001b[0;34m\u001b[0m\u001b[0;34m\u001b[0m\u001b[0m\n\u001b[0;32m--> 115\u001b[0;31m                     \u001b[0mself\u001b[0m\u001b[0;34m.\u001b[0m\u001b[0mdata\u001b[0m\u001b[0;34m[\u001b[0m\u001b[0mi\u001b[0m\u001b[0;34m]\u001b[0m \u001b[0;34m=\u001b[0m \u001b[0;34m[\u001b[0m\u001b[0;34m]\u001b[0m\u001b[0;34m\u001b[0m\u001b[0;34m\u001b[0m\u001b[0m\n\u001b[0m\u001b[1;32m    116\u001b[0m             \u001b[0;32melse\u001b[0m\u001b[0;34m:\u001b[0m\u001b[0;34m\u001b[0m\u001b[0;34m\u001b[0m\u001b[0m\n\u001b[1;32m    117\u001b[0m                 \u001b[0;32mraise\u001b[0m \u001b[0mTypeError\u001b[0m\u001b[0;34m(\u001b[0m\u001b[0;34m'unrecognized lil_matrix constructor usage'\u001b[0m\u001b[0;34m)\u001b[0m\u001b[0;34m\u001b[0m\u001b[0;34m\u001b[0m\u001b[0m\n",
      "\u001b[0;31mKeyboardInterrupt\u001b[0m: "
     ]
    }
   ],
   "source": [
    "#Print the Keywords in the 10 topics\n",
    "pprint(lda_model50.print_topics(num_words=10))"
   ]
  },
  {
   "cell_type": "code",
   "execution_count": 28,
   "metadata": {},
   "outputs": [
    {
     "name": "stderr",
     "output_type": "stream",
     "text": [
      "Traceback (most recent call last):\n",
      "  File \"/anaconda3/lib/python3.7/multiprocessing/queues.py\", line 242, in _feed\n",
      "    send_bytes(obj)\n",
      "  File \"/anaconda3/lib/python3.7/multiprocessing/connection.py\", line 200, in send_bytes\n",
      "    self._send_bytes(m[offset:offset + size])\n",
      "  File \"/anaconda3/lib/python3.7/multiprocessing/connection.py\", line 398, in _send_bytes\n",
      "    self._send(buf)\n",
      "  File \"/anaconda3/lib/python3.7/multiprocessing/connection.py\", line 368, in _send\n",
      "    n = write(self._handle, buf)\n",
      "BrokenPipeError: [Errno 32] Broken pipe\n",
      "Traceback (most recent call last):\n",
      "  File \"/anaconda3/lib/python3.7/multiprocessing/queues.py\", line 242, in _feed\n",
      "    send_bytes(obj)\n",
      "  File \"/anaconda3/lib/python3.7/multiprocessing/connection.py\", line 200, in send_bytes\n",
      "    self._send_bytes(m[offset:offset + size])\n",
      "  File \"/anaconda3/lib/python3.7/multiprocessing/connection.py\", line 397, in _send_bytes\n",
      "    self._send(header)\n",
      "  File \"/anaconda3/lib/python3.7/multiprocessing/connection.py\", line 368, in _send\n",
      "    n = write(self._handle, buf)\n",
      "BrokenPipeError: [Errno 32] Broken pipe\n"
     ]
    },
    {
     "name": "stdout",
     "output_type": "stream",
     "text": [
      "\n",
      "Coherence Score:  0.5002622792059759\n"
     ]
    }
   ],
   "source": [
    "coherence_model_lda = CoherenceModel(model=lda_model50, texts=data_lemmatized, dictionary=id2word, coherence='c_v')\n",
    "coherence_lda = coherence_model_lda.get_coherence()\n",
    "print('\\nCoherence Score: ', coherence_lda)"
   ]
  },
  {
   "cell_type": "code",
   "execution_count": 31,
   "metadata": {},
   "outputs": [],
   "source": [
    "#coherence_lda"
   ]
  },
  {
   "cell_type": "code",
   "execution_count": 22,
   "metadata": {},
   "outputs": [],
   "source": [
    "#function to export topics as csv with keywords displayed incolumns \n",
    "def topics_to_df(model_topics):\n",
    "    top_index = []\n",
    "    keywords = []\n",
    "    for top, words in model_topics:\n",
    "        top_index.append(top)\n",
    "        keywords_separated = gensim.utils.simple_preprocess(words)\n",
    "        keywords.append(keywords_separated)\n",
    "    df_topics = pd.DataFrame(keywords)\n",
    "    df_topics = df_topics.transpose()\n",
    "    df_topics.columns = top_index\n",
    "    return df_topics"
   ]
  },
  {
   "cell_type": "code",
   "execution_count": 38,
   "metadata": {},
   "outputs": [],
   "source": [
    "topics10_df = topics_to_df(topics10)\n",
    "#topics10_df.to_csv('lyrics_ldamodel_10', index=None, header=True)"
   ]
  },
  {
   "cell_type": "code",
   "execution_count": 8,
   "metadata": {},
   "outputs": [
    {
     "name": "stdout",
     "output_type": "stream",
     "text": [
      "Stored 'lda_model40' (LdaModel)\n"
     ]
    }
   ],
   "source": [
    "#build LDA model 40 topics\n",
    "lda_model40 = gensim.models.ldamodel.LdaModel(corpus=corpus,\n",
    "                                           id2word=id2word,\n",
    "                                           num_topics=40, \n",
    "                                           random_state=100,\n",
    "                                           update_every=1,\n",
    "                                           chunksize=100,\n",
    "                                           passes=10,\n",
    "                                           alpha='auto',\n",
    "                                           per_word_topics=True)"
   ]
  },
  {
   "cell_type": "code",
   "execution_count": 16,
   "metadata": {},
   "outputs": [],
   "source": [
    "lda_40 = topics_to_df(lda_model40.print_topics(num_topics=40, num_words=20))\n",
    "#lda_40.to_csv('lda40_keywords.csv')"
   ]
  },
  {
   "cell_type": "code",
   "execution_count": 17,
   "metadata": {},
   "outputs": [],
   "source": [
    "#build LDA model 20 topics\n",
    "lda_model20 = gensim.models.ldamodel.LdaModel(corpus=corpus,\n",
    "                                           id2word=id2word,\n",
    "                                           num_topics=20, \n",
    "                                           random_state=100,\n",
    "                                           update_every=1,\n",
    "                                           chunksize=100,\n",
    "                                           passes=10,\n",
    "                                           alpha='auto',\n",
    "                                           per_word_topics=True)\n",
    "lda_20 = topics_to_df(lda_model20.print_topics(num_topics=20, num_words=20))\n",
    "#lda_20.to_csv('lda20_keywords.csv')"
   ]
  },
  {
   "cell_type": "code",
   "execution_count": 18,
   "metadata": {},
   "outputs": [
    {
     "name": "stdout",
     "output_type": "stream",
     "text": [
      "Stored 'lda_model20' (LdaModel)\n"
     ]
    }
   ],
   "source": [
    "#store desired topic models to be used in next steps\n",
    "%store lda_model10\n",
    "%store lda_model40\n",
    "%store lda_model20"
   ]
  },
  {
   "cell_type": "markdown",
   "metadata": {},
   "source": [
    "### Model analysis"
   ]
  },
  {
   "cell_type": "code",
   "execution_count": 23,
   "metadata": {},
   "outputs": [
    {
     "name": "stdout",
     "output_type": "stream",
     "text": [
      "\n",
      "Perplexity:  -7.4099813070531555\n",
      "\n",
      "Coherence Score:  0.39791162285705894\n"
     ]
    }
   ],
   "source": [
    "# Compute Perplexity\n",
    "print('\\nPerplexity: ', lda_model10.log_perplexity(corpus))  #lower the better.\n",
    "\n",
    "# Compute Coherence Score between zero and one higher the better\n",
    "coherence_model_lda = CoherenceModel(model=lda_model10, texts=data_lemmatized, dictionary=id2word, coherence='c_v')\n",
    "coherence_lda = coherence_model_lda.get_coherence()\n",
    "print('\\nCoherence Score: ', coherence_lda)"
   ]
  },
  {
   "cell_type": "code",
   "execution_count": 29,
   "metadata": {},
   "outputs": [],
   "source": [
    "#create models with different number of topics and compute coherence, takes some time\n",
    "def compute_coherence_values(dictionary, corpus, texts, limit, start, step):\n",
    "    \"\"\"\n",
    "    Compute c_v coherence for various number of topics\n",
    "\n",
    "    Parameters:\n",
    "    ----------\n",
    "    dictionary : Gensim dictionary\n",
    "    corpus : Gensim corpus\n",
    "    texts : List of input texts\n",
    "    limit : Max num of topics\n",
    "\n",
    "    Returns:\n",
    "    -------\n",
    "    model_list : List of LDA topic models\n",
    "    coherence_values : Coherence values corresponding to the LDA model with respective number of topics\n",
    "    \"\"\"\n",
    "    coherence_values = []\n",
    "    model_list = []\n",
    "    for num_topics in range(start, limit, step):\n",
    "        model = gensim.models.ldamodel.LdaModel(corpus=corpus,\n",
    "                                           id2word=id2word,\n",
    "                                           num_topics=num_topics, \n",
    "                                           random_state=100,\n",
    "                                           update_every=1,\n",
    "                                           chunksize=100,\n",
    "                                           passes=10,\n",
    "                                           alpha='auto',\n",
    "                                           per_word_topics=False)\n",
    "        model_list.append(model)\n",
    "        coherencemodel = CoherenceModel(model=model, texts=texts, dictionary=dictionary, coherence='c_v')\n",
    "        coherence_values.append(coherencemodel.get_coherence())\n",
    "\n",
    "    return model_list, coherence_values"
   ]
  },
  {
   "cell_type": "code",
   "execution_count": 30,
   "metadata": {},
   "outputs": [],
   "source": [
    "#call function to generate list of models- set start, step and limit\n",
    "model_list, coherence_values = compute_coherence_values(dictionary=id2word, corpus=corpus, texts=data_lemmatized, start=10, limit=100, step=5)"
   ]
  },
  {
   "cell_type": "code",
   "execution_count": 35,
   "metadata": {},
   "outputs": [
    {
     "data": {
      "text/plain": [
       "[0.5085940577923722,\n",
       " 0.5268261101848211,\n",
       " 0.5170557519650683,\n",
       " 0.5076504914960591,\n",
       " 0.4905865017610599,\n",
       " 0.4811363186903156,\n",
       " 0.49117589638704723,\n",
       " 0.4731400427598802,\n",
       " 0.48352880760582295,\n",
       " 0.49405675153989365,\n",
       " 0.46180709007441967,\n",
       " 0.47153943278608235,\n",
       " 0.47290154854168903,\n",
       " 0.448053443835022,\n",
       " 0.46565254835150577,\n",
       " 0.4610292150405999,\n",
       " 0.4832309098903623,\n",
       " 0.4491806070073582]"
      ]
     },
     "execution_count": 35,
     "metadata": {},
     "output_type": "execute_result"
    }
   ],
   "source": [
    "coherence_values"
   ]
  },
  {
   "cell_type": "code",
   "execution_count": 32,
   "metadata": {},
   "outputs": [
    {
     "name": "stdout",
     "output_type": "stream",
     "text": [
      "Stored 'model_list' (list)\n"
     ]
    }
   ],
   "source": [
    "#store for future use\n",
    "%store model_list"
   ]
  },
  {
   "cell_type": "code",
   "execution_count": 37,
   "metadata": {},
   "outputs": [
    {
     "data": {
      "image/png": "[encoded data removed]",
      "text/plain": [
       "<Figure size 432x288 with 1 Axes>"
      ]
     },
     "metadata": {
      "needs_background": "light"
     },
     "output_type": "display_data"
    }
   ],
   "source": [
    "# Show graph of number of topics vs coherence \n",
    "limit=100; start=10; step=5;\n",
    "x = range(start, limit, step)\n",
    "plt.plot(x, coherence_values)\n",
    "plt.xlabel(\"Num Topics\")\n",
    "plt.ylabel(\"Coherence score\")\n",
    "plt.legend((\"coherence_values\"), loc='best')\n",
    "plt.show()"
   ]
  },
  {
   "cell_type": "code",
   "execution_count": 39,
   "metadata": {},
   "outputs": [
    {
     "data": {
      "text/plain": [
       "[0.5085940577923722,\n",
       " 0.5268261101848211,\n",
       " 0.5170557519650683,\n",
       " 0.5076504914960591,\n",
       " 0.4905865017610599,\n",
       " 0.4811363186903156,\n",
       " 0.49117589638704723,\n",
       " 0.4731400427598802,\n",
       " 0.48352880760582295,\n",
       " 0.49405675153989365,\n",
       " 0.46180709007441967,\n",
       " 0.47153943278608235,\n",
       " 0.47290154854168903,\n",
       " 0.448053443835022,\n",
       " 0.46565254835150577,\n",
       " 0.4610292150405999,\n",
       " 0.4832309098903623,\n",
       " 0.4491806070073582]"
      ]
     },
     "execution_count": 39,
     "metadata": {},
     "output_type": "execute_result"
    }
   ],
   "source": [
    "coherence_values"
   ]
  },
  {
   "cell_type": "code",
   "execution_count": 4,
   "metadata": {},
   "outputs": [],
   "source": [
    "model15 = gensim.models.ldamodel.LdaModel(corpus=corpus,\n",
    "                                           id2word=id2word,\n",
    "                                           num_topics=15, \n",
    "                                           random_state=100,\n",
    "                                           update_every=1,\n",
    "                                           chunksize=100,\n",
    "                                           passes=10,\n",
    "                                           alpha='auto',\n",
    "                                           per_word_topics=False)"
   ]
  },
  {
   "cell_type": "code",
   "execution_count": 51,
   "metadata": {},
   "outputs": [
    {
     "data": {
      "text/plain": [
       "<gensim.models.ldamodel.LdaModel at 0x1a25606748>"
      ]
     },
     "execution_count": 51,
     "metadata": {},
     "output_type": "execute_result"
    }
   ],
   "source": [
    "model_list[1]"
   ]
  },
  {
   "cell_type": "code",
   "execution_count": 45,
   "metadata": {},
   "outputs": [],
   "source": [
    "#pprint(model_list[1].print_topics(num_words=10))"
   ]
  },
  {
   "cell_type": "code",
   "execution_count": 5,
   "metadata": {},
   "outputs": [],
   "source": [
    "lda = model15"
   ]
  },
  {
   "cell_type": "code",
   "execution_count": 6,
   "metadata": {},
   "outputs": [],
   "source": [
    "lda_index = similarities.MatrixSimilarity(lda[corpus],num_features=len(id2word), num_best = 200)"
   ]
  },
  {
   "cell_type": "code",
   "execution_count": 17,
   "metadata": {},
   "outputs": [],
   "source": [
    "def lda_recommender (query):\n",
    "    recs = []\n",
    "    i = df.index[df['id'] == query].tolist()[0]\n",
    "    words = data_lemmatized[i]\n",
    "    query_vector = id2word.doc2bow(words)\n",
    "    sims = lda_index[query_vector]\n",
    "    return sims"
   ]
  },
  {
   "cell_type": "code",
   "execution_count": 18,
   "metadata": {},
   "outputs": [
    {
     "name": "stdout",
     "output_type": "stream",
     "text": [
      "['Album Review: “Frozen Throne”—Groundislava\\n 0.11934711039066315',\n",
      " 'How Astroworld Broke Hip Hop’s Weak Streak 0.11912423372268677',\n",
      " 'Album Review: \"Dream Your Life Away\"—Vance Joy 0.11858555674552917',\n",
      " \"Listen to This: 'Atlanta' Soundtrack Highlights 0.11853858083486557\",\n",
      " 'REVIEW: Avey Tare, Down There 0.11806224286556244',\n",
      " \"Amy Winehouse and Nas Duet on Salaam Remi's New Song 0.11794278025627136\",\n",
      " 'Review: \"Battle Born” — The Killers 0.1177503690123558',\n",
      " 'Album Review: \"Sweet Talker\"—Jessie J 0.11704496294260025',\n",
      " 'Toro Y Moi — \"Anything in Return\"  0.11701808124780655',\n",
      " 'Review: Kanye West, “My Beautiful Dark Twisted\\xa0Fantasy” '\n",
      " '0.11691488325595856']\n"
     ]
    }
   ],
   "source": [
    "see_recs(lda_recommender(37013)) #oscars article"
   ]
  },
  {
   "cell_type": "code",
   "execution_count": 19,
   "metadata": {},
   "outputs": [
    {
     "name": "stdout",
     "output_type": "stream",
     "text": [
      "['Vote for your 2014 Senior Superlatives 0.2072090059518814',\n",
      " \"Valentine's Day DIY Poll 0.18919692933559418\",\n",
      " 'Vote For Senior Superlatives 2K16 0.16972923278808594',\n",
      " 'Vote for Best of Penn: 2012 0.16848856210708618',\n",
      " 'Vote for your Tweet of the Week: 2/14-2/21 0.16098614037036896',\n",
      " 'Vote for Your Tweet of the Week: 11/8 0.1609855592250824',\n",
      " 'Vote for Your Tweet of the Week: 2/7 - 2/14  0.1609855592250824',\n",
      " 'Vote for Your Tweet of the Week: 1/26 0.16098244488239288',\n",
      " 'Vote for your Tweet of the Week 11/15-11/22 0.1609824001789093',\n",
      " 'Vote For Your Tweet of the Week: 1/31-2/7 0.16098226606845856']\n"
     ]
    }
   ],
   "source": [
    "see_recs(lda_recommender(37011)) #France Quinlan comes full circle"
   ]
  },
  {
   "cell_type": "code",
   "execution_count": null,
   "metadata": {},
   "outputs": [],
   "source": []
  }
 ],
 "metadata": {
  "kernelspec": {
   "display_name": "Python 3",
   "language": "python",
   "name": "python3"
  },
  "language_info": {
   "codemirror_mode": {
    "name": "ipython",
    "version": 3
   },
   "file_extension": ".py",
   "mimetype": "text/x-python",
   "name": "python",
   "nbconvert_exporter": "python",
   "pygments_lexer": "ipython3",
   "version": "3.7.1"
  }
 },
 "nbformat": 4,
 "nbformat_minor": 2
}
